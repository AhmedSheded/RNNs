{
 "cells": [
  {
   "cell_type": "code",
   "execution_count": 15,
   "metadata": {
    "collapsed": true,
    "pycharm": {
     "name": "#%%\n"
    }
   },
   "outputs": [],
   "source": [
    "# from keras.preprocessing import sequence\n",
    "from keras.models import Sequential\n",
    "from keras.layers import Dense, Dropout, Embedding, SimpleRNN\n",
    "from keras.datasets import imdb\n",
    "from keras.callbacks import TensorBoard\n",
    "from tensorflow.keras.preprocessing.sequence import pad_sequences"
   ]
  },
  {
   "cell_type": "code",
   "execution_count": 22,
   "outputs": [],
   "source": [
    "# Hyper Parameters\n",
    "max_features = 5000\n",
    "no_classes = 1\n",
    "max_length = 64\n",
    "embedding_size = 64\n",
    "dropout_rate = 0.4\n",
    "hidden_layer_size = 250\n",
    "epochs = 5"
   ],
   "metadata": {
    "collapsed": false,
    "pycharm": {
     "name": "#%%\n"
    }
   }
  },
  {
   "cell_type": "code",
   "execution_count": 3,
   "outputs": [
    {
     "name": "stdout",
     "output_type": "stream",
     "text": [
      "Downloading data from https://storage.googleapis.com/tensorflow/tf-keras-datasets/imdb.npz\n",
      "17464789/17464789 [==============================] - 7s 0us/step\n",
      "train data shape  (25000,)\n",
      "test data shape  (25000,)\n"
     ]
    }
   ],
   "source": [
    "# load  IMDB data\n",
    "(x_train, y_train), (x_test, y_test) = imdb.load_data(num_words=max_features)\n",
    "print(\"train data shape \", x_train.shape)\n",
    "print('test data shape ', x_test.shape)"
   ],
   "metadata": {
    "collapsed": false,
    "pycharm": {
     "name": "#%%\n"
    }
   }
  },
  {
   "cell_type": "code",
   "execution_count": 19,
   "outputs": [],
   "source": [
    "# Data preprocessing\n",
    "x_train = pad_sequences(x_train, maxlen=max_length)\n",
    "x_test = pad_sequences(x_test, maxlen=max_length)"
   ],
   "metadata": {
    "collapsed": false,
    "pycharm": {
     "name": "#%%\n"
    }
   }
  },
  {
   "cell_type": "code",
   "execution_count": 28,
   "outputs": [],
   "source": [
    "# Design NN Architecture with SimpoleRNN\n",
    "model = Sequential()\n",
    "model.add(Embedding(max_features, embedding_size, input_length=max_length))\n",
    "model.add(Dropout(dropout_rate))\n",
    "model.add(SimpleRNN(100, input_dim=1, batch_input_shape=(1, 3)))\n",
    "model.add(Dense(hidden_layer_size, activation='relu'))\n",
    "model.add(Dropout(dropout_rate))\n",
    "model.add(Dense(no_classes, activation='sigmoid'))"
   ],
   "metadata": {
    "collapsed": false,
    "pycharm": {
     "name": "#%%\n"
    }
   }
  },
  {
   "cell_type": "code",
   "execution_count": 29,
   "outputs": [],
   "source": [
    "model.compile(loss='binary_crossentropy', optimizer='adam', metrics=['accuracy'])\n",
    "tensorboard= TensorBoard('./logs/simpleRNN')"
   ],
   "metadata": {
    "collapsed": false,
    "pycharm": {
     "name": "#%%\n"
    }
   }
  },
  {
   "cell_type": "code",
   "execution_count": 30,
   "outputs": [
    {
     "name": "stdout",
     "output_type": "stream",
     "text": [
      "Epoch 1/5\n",
      "391/391 - 31s - loss: 0.6055 - accuracy: 0.6338 - val_loss: 0.4521 - val_accuracy: 0.8020 - 31s/epoch - 80ms/step\n",
      "Epoch 2/5\n",
      "391/391 - 29s - loss: 0.4060 - accuracy: 0.8182 - val_loss: 0.4178 - val_accuracy: 0.8191 - 29s/epoch - 73ms/step\n",
      "Epoch 3/5\n",
      "391/391 - 21s - loss: 0.3413 - accuracy: 0.8544 - val_loss: 0.4270 - val_accuracy: 0.8201 - 21s/epoch - 55ms/step\n",
      "Epoch 4/5\n",
      "391/391 - 19s - loss: 0.2854 - accuracy: 0.8821 - val_loss: 0.5112 - val_accuracy: 0.8026 - 19s/epoch - 49ms/step\n",
      "Epoch 5/5\n",
      "391/391 - 21s - loss: 0.2355 - accuracy: 0.9045 - val_loss: 0.5192 - val_accuracy: 0.8108 - 21s/epoch - 54ms/step\n"
     ]
    },
    {
     "data": {
      "text/plain": "<keras.callbacks.History at 0x7ff94c5d30d0>"
     },
     "execution_count": 30,
     "metadata": {},
     "output_type": "execute_result"
    }
   ],
   "source": [
    "# traning the model\n",
    "model.fit(x_train, y_train, batch_size=64, verbose=2, epochs=epochs, validation_data=(x_test, y_test), callbacks=[tensorboard])"
   ],
   "metadata": {
    "collapsed": false,
    "pycharm": {
     "name": "#%%\n"
    }
   }
  },
  {
   "cell_type": "code",
   "execution_count": 31,
   "outputs": [
    {
     "name": "stdout",
     "output_type": "stream",
     "text": [
      "391/391 [==============================] - 5s 14ms/step - loss: 0.5192 - accuracy: 0.8108\n",
      "test loss, tess acc: [0.5191596746444702, 0.8107600212097168]\n"
     ]
    }
   ],
   "source": [
    "# Evaluate the model\n",
    "results = model.evaluate(x_test, y_test, batch_size=64)\n",
    "print('test loss, tess acc:', results)"
   ],
   "metadata": {
    "collapsed": false,
    "pycharm": {
     "name": "#%%\n"
    }
   }
  },
  {
   "cell_type": "code",
   "execution_count": null,
   "outputs": [],
   "source": [],
   "metadata": {
    "collapsed": false,
    "pycharm": {
     "name": "#%%\n"
    }
   }
  }
 ],
 "metadata": {
  "kernelspec": {
   "display_name": "Python 3",
   "language": "python",
   "name": "python3"
  },
  "language_info": {
   "codemirror_mode": {
    "name": "ipython",
    "version": 2
   },
   "file_extension": ".py",
   "mimetype": "text/x-python",
   "name": "python",
   "nbconvert_exporter": "python",
   "pygments_lexer": "ipython2",
   "version": "2.7.6"
  }
 },
 "nbformat": 4,
 "nbformat_minor": 0
}