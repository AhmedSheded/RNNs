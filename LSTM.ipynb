{
 "cells": [
  {
   "cell_type": "markdown",
   "source": [
    "### LSTM Sentiment Analysis"
   ],
   "metadata": {
    "collapsed": false,
    "pycharm": {
     "name": "#%% md\n"
    }
   }
  },
  {
   "cell_type": "code",
   "execution_count": 43,
   "outputs": [],
   "source": [
    "import numpy as np\n",
    "import pandas as pd\n",
    "from sklearn.feature_extraction.text import CountVectorizer\n",
    "from sklearn.model_selection import train_test_split\n",
    "from tensorflow.keras.preprocessing.sequence import pad_sequences\n",
    "from keras.preprocessing.text import Tokenizer\n",
    "from keras.models import Sequential\n",
    "from keras.layers import Dense, Embedding, LSTM, SpatialDropout1D\n",
    "from keras.utils.np_utils import to_categorical\n",
    "import re"
   ],
   "metadata": {
    "collapsed": false,
    "pycharm": {
     "name": "#%%\n"
    }
   }
  },
  {
   "cell_type": "code",
   "execution_count": 2,
   "outputs": [],
   "source": [
    "data = pd.read_csv('data/Sentiment.csv')"
   ],
   "metadata": {
    "collapsed": false,
    "pycharm": {
     "name": "#%%\n"
    }
   }
  },
  {
   "cell_type": "code",
   "execution_count": 3,
   "outputs": [
    {
     "data": {
      "text/plain": "   id               candidate  candidate_confidence relevant_yn  \\\n0   1  No candidate mentioned                   1.0         yes   \n1   2            Scott Walker                   1.0         yes   \n2   3  No candidate mentioned                   1.0         yes   \n3   4  No candidate mentioned                   1.0         yes   \n4   5            Donald Trump                   1.0         yes   \n\n   relevant_yn_confidence sentiment  sentiment_confidence     subject_matter  \\\n0                     1.0   Neutral                0.6578  None of the above   \n1                     1.0  Positive                0.6333  None of the above   \n2                     1.0   Neutral                0.6629  None of the above   \n3                     1.0  Positive                1.0000  None of the above   \n4                     1.0  Positive                0.7045  None of the above   \n\n   subject_matter_confidence candidate_gold  ... relevant_yn_gold  \\\n0                     1.0000            NaN  ...              NaN   \n1                     1.0000            NaN  ...              NaN   \n2                     0.6629            NaN  ...              NaN   \n3                     0.7039            NaN  ...              NaN   \n4                     1.0000            NaN  ...              NaN   \n\n  retweet_count  sentiment_gold subject_matter_gold  \\\n0             5             NaN                 NaN   \n1            26             NaN                 NaN   \n2            27             NaN                 NaN   \n3           138             NaN                 NaN   \n4           156             NaN                 NaN   \n\n                                                text tweet_coord  \\\n0  RT @NancyLeeGrahn: How did everyone feel about...         NaN   \n1  RT @ScottWalker: Didn't catch the full #GOPdeb...         NaN   \n2  RT @TJMShow: No mention of Tamir Rice and the ...         NaN   \n3  RT @RobGeorge: That Carly Fiorina is trending ...         NaN   \n4  RT @DanScavino: #GOPDebate w/ @realDonaldTrump...         NaN   \n\n               tweet_created            tweet_id  tweet_location  \\\n0  2015-08-07 09:54:46 -0700  629697200650592256             NaN   \n1  2015-08-07 09:54:46 -0700  629697199560069120             NaN   \n2  2015-08-07 09:54:46 -0700  629697199312482304             NaN   \n3  2015-08-07 09:54:45 -0700  629697197118861312           Texas   \n4  2015-08-07 09:54:45 -0700  629697196967903232             NaN   \n\n                user_timezone  \n0                       Quito  \n1                         NaN  \n2                         NaN  \n3  Central Time (US & Canada)  \n4                     Arizona  \n\n[5 rows x 21 columns]",
      "text/html": "<div>\n<style scoped>\n    .dataframe tbody tr th:only-of-type {\n        vertical-align: middle;\n    }\n\n    .dataframe tbody tr th {\n        vertical-align: top;\n    }\n\n    .dataframe thead th {\n        text-align: right;\n    }\n</style>\n<table border=\"1\" class=\"dataframe\">\n  <thead>\n    <tr style=\"text-align: right;\">\n      <th></th>\n      <th>id</th>\n      <th>candidate</th>\n      <th>candidate_confidence</th>\n      <th>relevant_yn</th>\n      <th>relevant_yn_confidence</th>\n      <th>sentiment</th>\n      <th>sentiment_confidence</th>\n      <th>subject_matter</th>\n      <th>subject_matter_confidence</th>\n      <th>candidate_gold</th>\n      <th>...</th>\n      <th>relevant_yn_gold</th>\n      <th>retweet_count</th>\n      <th>sentiment_gold</th>\n      <th>subject_matter_gold</th>\n      <th>text</th>\n      <th>tweet_coord</th>\n      <th>tweet_created</th>\n      <th>tweet_id</th>\n      <th>tweet_location</th>\n      <th>user_timezone</th>\n    </tr>\n  </thead>\n  <tbody>\n    <tr>\n      <th>0</th>\n      <td>1</td>\n      <td>No candidate mentioned</td>\n      <td>1.0</td>\n      <td>yes</td>\n      <td>1.0</td>\n      <td>Neutral</td>\n      <td>0.6578</td>\n      <td>None of the above</td>\n      <td>1.0000</td>\n      <td>NaN</td>\n      <td>...</td>\n      <td>NaN</td>\n      <td>5</td>\n      <td>NaN</td>\n      <td>NaN</td>\n      <td>RT @NancyLeeGrahn: How did everyone feel about...</td>\n      <td>NaN</td>\n      <td>2015-08-07 09:54:46 -0700</td>\n      <td>629697200650592256</td>\n      <td>NaN</td>\n      <td>Quito</td>\n    </tr>\n    <tr>\n      <th>1</th>\n      <td>2</td>\n      <td>Scott Walker</td>\n      <td>1.0</td>\n      <td>yes</td>\n      <td>1.0</td>\n      <td>Positive</td>\n      <td>0.6333</td>\n      <td>None of the above</td>\n      <td>1.0000</td>\n      <td>NaN</td>\n      <td>...</td>\n      <td>NaN</td>\n      <td>26</td>\n      <td>NaN</td>\n      <td>NaN</td>\n      <td>RT @ScottWalker: Didn't catch the full #GOPdeb...</td>\n      <td>NaN</td>\n      <td>2015-08-07 09:54:46 -0700</td>\n      <td>629697199560069120</td>\n      <td>NaN</td>\n      <td>NaN</td>\n    </tr>\n    <tr>\n      <th>2</th>\n      <td>3</td>\n      <td>No candidate mentioned</td>\n      <td>1.0</td>\n      <td>yes</td>\n      <td>1.0</td>\n      <td>Neutral</td>\n      <td>0.6629</td>\n      <td>None of the above</td>\n      <td>0.6629</td>\n      <td>NaN</td>\n      <td>...</td>\n      <td>NaN</td>\n      <td>27</td>\n      <td>NaN</td>\n      <td>NaN</td>\n      <td>RT @TJMShow: No mention of Tamir Rice and the ...</td>\n      <td>NaN</td>\n      <td>2015-08-07 09:54:46 -0700</td>\n      <td>629697199312482304</td>\n      <td>NaN</td>\n      <td>NaN</td>\n    </tr>\n    <tr>\n      <th>3</th>\n      <td>4</td>\n      <td>No candidate mentioned</td>\n      <td>1.0</td>\n      <td>yes</td>\n      <td>1.0</td>\n      <td>Positive</td>\n      <td>1.0000</td>\n      <td>None of the above</td>\n      <td>0.7039</td>\n      <td>NaN</td>\n      <td>...</td>\n      <td>NaN</td>\n      <td>138</td>\n      <td>NaN</td>\n      <td>NaN</td>\n      <td>RT @RobGeorge: That Carly Fiorina is trending ...</td>\n      <td>NaN</td>\n      <td>2015-08-07 09:54:45 -0700</td>\n      <td>629697197118861312</td>\n      <td>Texas</td>\n      <td>Central Time (US &amp; Canada)</td>\n    </tr>\n    <tr>\n      <th>4</th>\n      <td>5</td>\n      <td>Donald Trump</td>\n      <td>1.0</td>\n      <td>yes</td>\n      <td>1.0</td>\n      <td>Positive</td>\n      <td>0.7045</td>\n      <td>None of the above</td>\n      <td>1.0000</td>\n      <td>NaN</td>\n      <td>...</td>\n      <td>NaN</td>\n      <td>156</td>\n      <td>NaN</td>\n      <td>NaN</td>\n      <td>RT @DanScavino: #GOPDebate w/ @realDonaldTrump...</td>\n      <td>NaN</td>\n      <td>2015-08-07 09:54:45 -0700</td>\n      <td>629697196967903232</td>\n      <td>NaN</td>\n      <td>Arizona</td>\n    </tr>\n  </tbody>\n</table>\n<p>5 rows × 21 columns</p>\n</div>"
     },
     "execution_count": 3,
     "metadata": {},
     "output_type": "execute_result"
    }
   ],
   "source": [
    "data.head()"
   ],
   "metadata": {
    "collapsed": false,
    "pycharm": {
     "name": "#%%\n"
    }
   }
  },
  {
   "cell_type": "code",
   "execution_count": 4,
   "outputs": [
    {
     "name": "stdout",
     "output_type": "stream",
     "text": [
      "<class 'pandas.core.frame.DataFrame'>\n",
      "RangeIndex: 13871 entries, 0 to 13870\n",
      "Data columns (total 21 columns):\n",
      " #   Column                     Non-Null Count  Dtype  \n",
      "---  ------                     --------------  -----  \n",
      " 0   id                         13871 non-null  int64  \n",
      " 1   candidate                  13775 non-null  object \n",
      " 2   candidate_confidence       13871 non-null  float64\n",
      " 3   relevant_yn                13871 non-null  object \n",
      " 4   relevant_yn_confidence     13871 non-null  float64\n",
      " 5   sentiment                  13871 non-null  object \n",
      " 6   sentiment_confidence       13871 non-null  float64\n",
      " 7   subject_matter             13545 non-null  object \n",
      " 8   subject_matter_confidence  13871 non-null  float64\n",
      " 9   candidate_gold             28 non-null     object \n",
      " 10  name                       13871 non-null  object \n",
      " 11  relevant_yn_gold           32 non-null     object \n",
      " 12  retweet_count              13871 non-null  int64  \n",
      " 13  sentiment_gold             15 non-null     object \n",
      " 14  subject_matter_gold        18 non-null     object \n",
      " 15  text                       13871 non-null  object \n",
      " 16  tweet_coord                21 non-null     object \n",
      " 17  tweet_created              13871 non-null  object \n",
      " 18  tweet_id                   13871 non-null  int64  \n",
      " 19  tweet_location             9959 non-null   object \n",
      " 20  user_timezone              9468 non-null   object \n",
      "dtypes: float64(4), int64(3), object(14)\n",
      "memory usage: 2.2+ MB\n"
     ]
    }
   ],
   "source": [
    "data.info()"
   ],
   "metadata": {
    "collapsed": false,
    "pycharm": {
     "name": "#%%\n"
    }
   }
  },
  {
   "cell_type": "code",
   "execution_count": 5,
   "outputs": [
    {
     "data": {
      "text/plain": "Negative    8493\nNeutral     3142\nPositive    2236\nName: sentiment, dtype: int64"
     },
     "execution_count": 5,
     "metadata": {},
     "output_type": "execute_result"
    }
   ],
   "source": [
    "data['sentiment'].value_counts()"
   ],
   "metadata": {
    "collapsed": false,
    "pycharm": {
     "name": "#%%\n"
    }
   }
  },
  {
   "cell_type": "code",
   "execution_count": 6,
   "outputs": [],
   "source": [
    "# data preprocessing\n",
    "data = data[data['sentiment'] != 'Neutral']\n",
    "data['text'] = data['text'].apply(lambda x :x.lower())\n",
    "data['text'] = data['text'].apply((lambda x: re.sub('[^a-zA-Z0-9\\s]', '', x)))"
   ],
   "metadata": {
    "collapsed": false,
    "pycharm": {
     "name": "#%%\n"
    }
   }
  },
  {
   "cell_type": "code",
   "execution_count": 7,
   "outputs": [
    {
     "data": {
      "text/plain": "Negative    8493\nPositive    2236\nName: sentiment, dtype: int64"
     },
     "execution_count": 7,
     "metadata": {},
     "output_type": "execute_result"
    }
   ],
   "source": [
    "data['sentiment'].value_counts()"
   ],
   "metadata": {
    "collapsed": false,
    "pycharm": {
     "name": "#%%\n"
    }
   }
  },
  {
   "cell_type": "code",
   "execution_count": 9,
   "outputs": [
    {
     "ename": "AttributeError",
     "evalue": "'int' object has no attribute 'replace'",
     "output_type": "error",
     "traceback": [
      "\u001B[0;31m---------------------------------------------------------------------------\u001B[0m",
      "\u001B[0;31mAttributeError\u001B[0m                            Traceback (most recent call last)",
      "\u001B[0;32m/tmp/ipykernel_31971/43974066.py\u001B[0m in \u001B[0;36m<module>\u001B[0;34m\u001B[0m\n\u001B[1;32m      1\u001B[0m \u001B[0;32mfor\u001B[0m \u001B[0midx\u001B[0m\u001B[0;34m,\u001B[0m \u001B[0mrow\u001B[0m \u001B[0;32min\u001B[0m \u001B[0mdata\u001B[0m\u001B[0;34m.\u001B[0m\u001B[0miterrows\u001B[0m\u001B[0;34m(\u001B[0m\u001B[0;34m)\u001B[0m\u001B[0;34m:\u001B[0m\u001B[0;34m\u001B[0m\u001B[0;34m\u001B[0m\u001B[0m\n\u001B[0;32m----> 2\u001B[0;31m     \u001B[0mrow\u001B[0m\u001B[0;34m[\u001B[0m\u001B[0;36m0\u001B[0m\u001B[0;34m]\u001B[0m \u001B[0;34m=\u001B[0m \u001B[0mrow\u001B[0m\u001B[0;34m[\u001B[0m\u001B[0;36m0\u001B[0m\u001B[0;34m]\u001B[0m\u001B[0;34m.\u001B[0m\u001B[0mreplace\u001B[0m\u001B[0;34m(\u001B[0m\u001B[0;34m'rt'\u001B[0m\u001B[0;34m,\u001B[0m \u001B[0;34m' '\u001B[0m\u001B[0;34m)\u001B[0m\u001B[0;34m\u001B[0m\u001B[0;34m\u001B[0m\u001B[0m\n\u001B[0m",
      "\u001B[0;31mAttributeError\u001B[0m: 'int' object has no attribute 'replace'"
     ]
    }
   ],
   "source": [
    "# for idx, row in data.iterrows():\n",
    "#     row[0] = row[0].replace('rt', ' ')"
   ],
   "metadata": {
    "collapsed": false,
    "pycharm": {
     "name": "#%%\n"
    }
   }
  },
  {
   "cell_type": "code",
   "execution_count": 11,
   "outputs": [],
   "source": [
    "max_fatures = 2000\n",
    "tokenizer = Tokenizer(num_words=max_fatures, split=' ')\n",
    "tokenizer.fit_on_texts(data['text'].values)\n",
    "X = tokenizer.texts_to_sequences(data['text'].values)\n",
    "X = pad_sequences(X)"
   ],
   "metadata": {
    "collapsed": false,
    "pycharm": {
     "name": "#%%\n"
    }
   }
  },
  {
   "cell_type": "code",
   "execution_count": 12,
   "outputs": [
    {
     "data": {
      "text/plain": "array([[   0,    0,    0, ..., 1303, 1387,  734],\n       [   0,    0,    0, ...,  232,  714,   18],\n       [   0,    0,    0, ...,  205,  367,  680],\n       ...,\n       [   0,    0,    0, ...,   72,   66,    4],\n       [   0,    0,    0, ..., 1006, 1399,   74],\n       [   0,    0,    0, ...,  195,    4,  712]], dtype=int32)"
     },
     "execution_count": 12,
     "metadata": {},
     "output_type": "execute_result"
    }
   ],
   "source": [
    "X"
   ],
   "metadata": {
    "collapsed": false,
    "pycharm": {
     "name": "#%%\n"
    }
   }
  },
  {
   "cell_type": "code",
   "execution_count": 15,
   "outputs": [
    {
     "data": {
      "text/plain": "(10729, 28)"
     },
     "execution_count": 15,
     "metadata": {},
     "output_type": "execute_result"
    }
   ],
   "source": [
    "X.shape"
   ],
   "metadata": {
    "collapsed": false,
    "pycharm": {
     "name": "#%%\n"
    }
   }
  },
  {
   "cell_type": "code",
   "execution_count": 50,
   "outputs": [],
   "source": [
    "embed_dim = 128\n",
    "lstm_out = 196\n",
    "\n",
    "model = Sequential()\n",
    "model.add(Embedding(max_fatures, embed_dim, input_length=X.shape[1]))\n",
    "model.add(SpatialDropout1D(0.4))\n",
    "model.add(LSTM(lstm_out, dropout=0.3, recurrent_dropout=0.35))\n",
    "model.add(Dense(2, activation='softmax'))"
   ],
   "metadata": {
    "collapsed": false,
    "pycharm": {
     "name": "#%%\n"
    }
   }
  },
  {
   "cell_type": "code",
   "execution_count": 51,
   "outputs": [],
   "source": [
    "model.compile(loss = 'categorical_crossentropy', optimizer='adam', metrics=['accuracy'])"
   ],
   "metadata": {
    "collapsed": false,
    "pycharm": {
     "name": "#%%\n"
    }
   }
  },
  {
   "cell_type": "code",
   "execution_count": 52,
   "outputs": [
    {
     "name": "stdout",
     "output_type": "stream",
     "text": [
      "Model: \"sequential_2\"\n",
      "_________________________________________________________________\n",
      " Layer (type)                Output Shape              Param #   \n",
      "=================================================================\n",
      " embedding_2 (Embedding)     (None, 28, 128)           256000    \n",
      "                                                                 \n",
      " spatial_dropout1d_2 (Spatia  (None, 28, 128)          0         \n",
      " lDropout1D)                                                     \n",
      "                                                                 \n",
      " lstm_2 (LSTM)               (None, 196)               254800    \n",
      "                                                                 \n",
      " dense_2 (Dense)             (None, 2)                 394       \n",
      "                                                                 \n",
      "=================================================================\n",
      "Total params: 511,194\n",
      "Trainable params: 511,194\n",
      "Non-trainable params: 0\n",
      "_________________________________________________________________\n"
     ]
    }
   ],
   "source": [
    "model.summary()"
   ],
   "metadata": {
    "collapsed": false,
    "pycharm": {
     "name": "#%%\n"
    }
   }
  },
  {
   "cell_type": "code",
   "execution_count": 53,
   "outputs": [],
   "source": [
    "y = pd.get_dummies(data['sentiment']).values\n",
    "X_train, X_test, y_train, y_test = train_test_split(X, y, test_size=0.3, random_state=2222)"
   ],
   "metadata": {
    "collapsed": false,
    "pycharm": {
     "name": "#%%\n"
    }
   }
  },
  {
   "cell_type": "code",
   "execution_count": 54,
   "outputs": [
    {
     "name": "stdout",
     "output_type": "stream",
     "text": [
      "(7510, 28)\n",
      "(3219, 28)\n"
     ]
    }
   ],
   "source": [
    "print(X_train.shape)\n",
    "print(X_test.shape)"
   ],
   "metadata": {
    "collapsed": false,
    "pycharm": {
     "name": "#%%\n"
    }
   }
  },
  {
   "cell_type": "code",
   "execution_count": 55,
   "outputs": [
    {
     "name": "stdout",
     "output_type": "stream",
     "text": [
      "Epoch 1/10\n",
      "235/235 - 49s - loss: 0.4336 - accuracy: 0.8144 - val_loss: 0.3697 - val_accuracy: 0.8490 - 49s/epoch - 207ms/step\n",
      "Epoch 2/10\n",
      "235/235 - 42s - loss: 0.3227 - accuracy: 0.8627 - val_loss: 0.3713 - val_accuracy: 0.8546 - 42s/epoch - 178ms/step\n",
      "Epoch 3/10\n",
      "235/235 - 38s - loss: 0.2777 - accuracy: 0.8820 - val_loss: 0.3658 - val_accuracy: 0.8546 - 38s/epoch - 161ms/step\n",
      "Epoch 4/10\n",
      "235/235 - 39s - loss: 0.2480 - accuracy: 0.8939 - val_loss: 0.3575 - val_accuracy: 0.8540 - 39s/epoch - 165ms/step\n",
      "Epoch 5/10\n",
      "235/235 - 48s - loss: 0.2234 - accuracy: 0.9075 - val_loss: 0.3925 - val_accuracy: 0.8447 - 48s/epoch - 204ms/step\n",
      "Epoch 6/10\n",
      "235/235 - 38s - loss: 0.2067 - accuracy: 0.9164 - val_loss: 0.4072 - val_accuracy: 0.8422 - 38s/epoch - 161ms/step\n",
      "Epoch 7/10\n",
      "235/235 - 35s - loss: 0.1889 - accuracy: 0.9229 - val_loss: 0.4305 - val_accuracy: 0.8465 - 35s/epoch - 148ms/step\n",
      "Epoch 8/10\n",
      "235/235 - 40s - loss: 0.1801 - accuracy: 0.9274 - val_loss: 0.4269 - val_accuracy: 0.8372 - 40s/epoch - 170ms/step\n",
      "Epoch 9/10\n",
      "235/235 - 39s - loss: 0.1608 - accuracy: 0.9330 - val_loss: 0.4886 - val_accuracy: 0.8484 - 39s/epoch - 165ms/step\n",
      "Epoch 10/10\n",
      "235/235 - 35s - loss: 0.1529 - accuracy: 0.9360 - val_loss: 0.5204 - val_accuracy: 0.8431 - 35s/epoch - 149ms/step\n"
     ]
    },
    {
     "data": {
      "text/plain": "<keras.callbacks.History at 0x7fa80c8bfb80>"
     },
     "execution_count": 55,
     "metadata": {},
     "output_type": "execute_result"
    }
   ],
   "source": [
    "model.fit(X_train, y_train, validation_data=(X_test, y_test), epochs=10, batch_size=32, verbose=2)"
   ],
   "metadata": {
    "collapsed": false,
    "pycharm": {
     "name": "#%%\n"
    }
   }
  },
  {
   "cell_type": "code",
   "execution_count": 56,
   "outputs": [
    {
     "name": "stdout",
     "output_type": "stream",
     "text": [
      "[[   0    0    0    0    0    0    0    0    0    0    0    0    0    0\n",
      "     0    0    0    0    0    0    0    0   81 1200  204   21    6  684]]\n"
     ]
    }
   ],
   "source": [
    "twt = [\"I'm really angry because this is totally unacceptable\"]\n",
    "twt = tokenizer.texts_to_sequences(twt)\n",
    "twt = pad_sequences(twt, maxlen=28, dtype='int32', value=0)\n",
    "print(twt)"
   ],
   "metadata": {
    "collapsed": false,
    "pycharm": {
     "name": "#%%\n"
    }
   }
  },
  {
   "cell_type": "code",
   "execution_count": 57,
   "outputs": [
    {
     "name": "stdout",
     "output_type": "stream",
     "text": [
      "1/1 - 0s - 419ms/epoch - 419ms/step\n",
      "negative\n",
      "[[0.99567884 0.0043212 ]]\n"
     ]
    }
   ],
   "source": [
    "sentiment = model.predict(twt, batch_size=1, verbose=2)\n",
    "\n",
    "if np.argmax(sentiment) == 0:\n",
    "    print('negative')\n",
    "else:\n",
    "    print('positive')\n",
    "print(sentiment)"
   ],
   "metadata": {
    "collapsed": false,
    "pycharm": {
     "name": "#%%\n"
    }
   }
  },
  {
   "cell_type": "code",
   "execution_count": null,
   "outputs": [],
   "source": [],
   "metadata": {
    "collapsed": false,
    "pycharm": {
     "name": "#%%\n"
    }
   }
  }
 ],
 "metadata": {
  "kernelspec": {
   "display_name": "Python 3",
   "language": "python",
   "name": "python3"
  },
  "language_info": {
   "codemirror_mode": {
    "name": "ipython",
    "version": 2
   },
   "file_extension": ".py",
   "mimetype": "text/x-python",
   "name": "python",
   "nbconvert_exporter": "python",
   "pygments_lexer": "ipython2",
   "version": "2.7.6"
  }
 },
 "nbformat": 4,
 "nbformat_minor": 0
}